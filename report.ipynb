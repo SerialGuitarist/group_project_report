{
 "cells": [
  {
   "cell_type": "code",
   "execution_count": 2,
   "metadata": {},
   "outputs": [
    {
     "name": "stderr",
     "output_type": "stream",
     "text": [
      "Warning message:\n",
      "“package ‘rvest’ was built under R version 4.0.2”\n",
      "Loading required package: xml2\n",
      "\n",
      "\n",
      "Attaching package: ‘rvest’\n",
      "\n",
      "\n",
      "The following object is masked from ‘package:purrr’:\n",
      "\n",
      "    pluck\n",
      "\n",
      "\n",
      "The following object is masked from ‘package:readr’:\n",
      "\n",
      "    guess_encoding\n",
      "\n",
      "\n",
      "Warning message in install.packages(\"GGally\"):\n",
      "“installation of package ‘GGally’ had non-zero exit status”\n",
      "Updating HTML index of packages in '.Library'\n",
      "\n",
      "Making 'packages.html' ...\n",
      " done\n",
      "\n",
      "Registered S3 method overwritten by 'GGally':\n",
      "  method from   \n",
      "  +.gg   ggplot2\n",
      "\n"
     ]
    }
   ],
   "source": [
    "library(tidyverse)\n",
    "library(repr)\n",
    "library(tidymodels)\n",
    "library(rvest)\n",
    "install.packages(\"GGally\")\n",
    "library(\"GGally\")\n",
    "options(repr.matrix.max.rows = 6)"
   ]
  },
  {
   "cell_type": "code",
   "execution_count": 4,
   "metadata": {},
   "outputs": [
    {
     "name": "stderr",
     "output_type": "stream",
     "text": [
      "Parsed with column specification:\n",
      "cols(\n",
      "  Administrative = \u001b[32mcol_double()\u001b[39m,\n",
      "  Administrative_Duration = \u001b[32mcol_double()\u001b[39m,\n",
      "  Informational = \u001b[32mcol_double()\u001b[39m,\n",
      "  Informational_Duration = \u001b[32mcol_double()\u001b[39m,\n",
      "  ProductRelated = \u001b[32mcol_double()\u001b[39m,\n",
      "  ProductRelated_Duration = \u001b[32mcol_double()\u001b[39m,\n",
      "  BounceRates = \u001b[32mcol_double()\u001b[39m,\n",
      "  ExitRates = \u001b[32mcol_double()\u001b[39m,\n",
      "  PageValues = \u001b[32mcol_double()\u001b[39m,\n",
      "  SpecialDay = \u001b[32mcol_double()\u001b[39m,\n",
      "  Month = \u001b[31mcol_character()\u001b[39m,\n",
      "  OperatingSystems = \u001b[32mcol_double()\u001b[39m,\n",
      "  Browser = \u001b[32mcol_double()\u001b[39m,\n",
      "  Region = \u001b[32mcol_double()\u001b[39m,\n",
      "  TrafficType = \u001b[32mcol_double()\u001b[39m,\n",
      "  VisitorType = \u001b[31mcol_character()\u001b[39m,\n",
      "  Weekend = \u001b[33mcol_logical()\u001b[39m,\n",
      "  Revenue = \u001b[33mcol_logical()\u001b[39m\n",
      ")\n",
      "\n"
     ]
    },
    {
     "data": {
      "text/html": [
       "<table>\n",
       "<caption>A spec_tbl_df: 12330 × 18</caption>\n",
       "<thead>\n",
       "\t<tr><th scope=col>Administrative</th><th scope=col>Administrative_Duration</th><th scope=col>Informational</th><th scope=col>Informational_Duration</th><th scope=col>ProductRelated</th><th scope=col>ProductRelated_Duration</th><th scope=col>BounceRates</th><th scope=col>ExitRates</th><th scope=col>PageValues</th><th scope=col>SpecialDay</th><th scope=col>Month</th><th scope=col>OperatingSystems</th><th scope=col>Browser</th><th scope=col>Region</th><th scope=col>TrafficType</th><th scope=col>VisitorType</th><th scope=col>Weekend</th><th scope=col>Revenue</th></tr>\n",
       "\t<tr><th scope=col>&lt;dbl&gt;</th><th scope=col>&lt;dbl&gt;</th><th scope=col>&lt;dbl&gt;</th><th scope=col>&lt;dbl&gt;</th><th scope=col>&lt;dbl&gt;</th><th scope=col>&lt;dbl&gt;</th><th scope=col>&lt;dbl&gt;</th><th scope=col>&lt;dbl&gt;</th><th scope=col>&lt;dbl&gt;</th><th scope=col>&lt;dbl&gt;</th><th scope=col>&lt;chr&gt;</th><th scope=col>&lt;dbl&gt;</th><th scope=col>&lt;dbl&gt;</th><th scope=col>&lt;dbl&gt;</th><th scope=col>&lt;dbl&gt;</th><th scope=col>&lt;chr&gt;</th><th scope=col>&lt;lgl&gt;</th><th scope=col>&lt;lgl&gt;</th></tr>\n",
       "</thead>\n",
       "<tbody>\n",
       "\t<tr><td>0</td><td>0</td><td>0</td><td>0</td><td>1</td><td> 0</td><td>0.2</td><td>0.2</td><td>0</td><td>0</td><td>Feb</td><td>1</td><td>1</td><td>1</td><td>1</td><td>Returning_Visitor</td><td>FALSE</td><td>FALSE</td></tr>\n",
       "\t<tr><td>0</td><td>0</td><td>0</td><td>0</td><td>2</td><td>64</td><td>0.0</td><td>0.1</td><td>0</td><td>0</td><td>Feb</td><td>2</td><td>2</td><td>1</td><td>2</td><td>Returning_Visitor</td><td>FALSE</td><td>FALSE</td></tr>\n",
       "\t<tr><td>0</td><td>0</td><td>0</td><td>0</td><td>1</td><td> 0</td><td>0.2</td><td>0.2</td><td>0</td><td>0</td><td>Feb</td><td>4</td><td>1</td><td>9</td><td>3</td><td>Returning_Visitor</td><td>FALSE</td><td>FALSE</td></tr>\n",
       "\t<tr><td>⋮</td><td>⋮</td><td>⋮</td><td>⋮</td><td>⋮</td><td>⋮</td><td>⋮</td><td>⋮</td><td>⋮</td><td>⋮</td><td>⋮</td><td>⋮</td><td>⋮</td><td>⋮</td><td>⋮</td><td>⋮</td><td>⋮</td><td>⋮</td></tr>\n",
       "\t<tr><td>0</td><td> 0</td><td>0</td><td>0</td><td> 6</td><td>184.25</td><td>0.08333333</td><td>0.08666667</td><td>0</td><td>0</td><td>Nov</td><td>3</td><td>2</td><td>1</td><td>13</td><td>Returning_Visitor</td><td> TRUE</td><td>FALSE</td></tr>\n",
       "\t<tr><td>4</td><td>75</td><td>0</td><td>0</td><td>15</td><td>346.00</td><td>0.00000000</td><td>0.02105263</td><td>0</td><td>0</td><td>Nov</td><td>2</td><td>2</td><td>3</td><td>11</td><td>Returning_Visitor</td><td>FALSE</td><td>FALSE</td></tr>\n",
       "\t<tr><td>0</td><td> 0</td><td>0</td><td>0</td><td> 3</td><td> 21.25</td><td>0.00000000</td><td>0.06666667</td><td>0</td><td>0</td><td>Nov</td><td>3</td><td>2</td><td>1</td><td> 2</td><td>New_Visitor      </td><td> TRUE</td><td>FALSE</td></tr>\n",
       "</tbody>\n",
       "</table>\n"
      ],
      "text/latex": [
       "A spec\\_tbl\\_df: 12330 × 18\n",
       "\\begin{tabular}{llllllllllllllllll}\n",
       " Administrative & Administrative\\_Duration & Informational & Informational\\_Duration & ProductRelated & ProductRelated\\_Duration & BounceRates & ExitRates & PageValues & SpecialDay & Month & OperatingSystems & Browser & Region & TrafficType & VisitorType & Weekend & Revenue\\\\\n",
       " <dbl> & <dbl> & <dbl> & <dbl> & <dbl> & <dbl> & <dbl> & <dbl> & <dbl> & <dbl> & <chr> & <dbl> & <dbl> & <dbl> & <dbl> & <chr> & <lgl> & <lgl>\\\\\n",
       "\\hline\n",
       "\t 0 & 0 & 0 & 0 & 1 &  0 & 0.2 & 0.2 & 0 & 0 & Feb & 1 & 1 & 1 & 1 & Returning\\_Visitor & FALSE & FALSE\\\\\n",
       "\t 0 & 0 & 0 & 0 & 2 & 64 & 0.0 & 0.1 & 0 & 0 & Feb & 2 & 2 & 1 & 2 & Returning\\_Visitor & FALSE & FALSE\\\\\n",
       "\t 0 & 0 & 0 & 0 & 1 &  0 & 0.2 & 0.2 & 0 & 0 & Feb & 4 & 1 & 9 & 3 & Returning\\_Visitor & FALSE & FALSE\\\\\n",
       "\t ⋮ & ⋮ & ⋮ & ⋮ & ⋮ & ⋮ & ⋮ & ⋮ & ⋮ & ⋮ & ⋮ & ⋮ & ⋮ & ⋮ & ⋮ & ⋮ & ⋮ & ⋮\\\\\n",
       "\t 0 &  0 & 0 & 0 &  6 & 184.25 & 0.08333333 & 0.08666667 & 0 & 0 & Nov & 3 & 2 & 1 & 13 & Returning\\_Visitor &  TRUE & FALSE\\\\\n",
       "\t 4 & 75 & 0 & 0 & 15 & 346.00 & 0.00000000 & 0.02105263 & 0 & 0 & Nov & 2 & 2 & 3 & 11 & Returning\\_Visitor & FALSE & FALSE\\\\\n",
       "\t 0 &  0 & 0 & 0 &  3 &  21.25 & 0.00000000 & 0.06666667 & 0 & 0 & Nov & 3 & 2 & 1 &  2 & New\\_Visitor       &  TRUE & FALSE\\\\\n",
       "\\end{tabular}\n"
      ],
      "text/markdown": [
       "\n",
       "A spec_tbl_df: 12330 × 18\n",
       "\n",
       "| Administrative &lt;dbl&gt; | Administrative_Duration &lt;dbl&gt; | Informational &lt;dbl&gt; | Informational_Duration &lt;dbl&gt; | ProductRelated &lt;dbl&gt; | ProductRelated_Duration &lt;dbl&gt; | BounceRates &lt;dbl&gt; | ExitRates &lt;dbl&gt; | PageValues &lt;dbl&gt; | SpecialDay &lt;dbl&gt; | Month &lt;chr&gt; | OperatingSystems &lt;dbl&gt; | Browser &lt;dbl&gt; | Region &lt;dbl&gt; | TrafficType &lt;dbl&gt; | VisitorType &lt;chr&gt; | Weekend &lt;lgl&gt; | Revenue &lt;lgl&gt; |\n",
       "|---|---|---|---|---|---|---|---|---|---|---|---|---|---|---|---|---|---|\n",
       "| 0 | 0 | 0 | 0 | 1 |  0 | 0.2 | 0.2 | 0 | 0 | Feb | 1 | 1 | 1 | 1 | Returning_Visitor | FALSE | FALSE |\n",
       "| 0 | 0 | 0 | 0 | 2 | 64 | 0.0 | 0.1 | 0 | 0 | Feb | 2 | 2 | 1 | 2 | Returning_Visitor | FALSE | FALSE |\n",
       "| 0 | 0 | 0 | 0 | 1 |  0 | 0.2 | 0.2 | 0 | 0 | Feb | 4 | 1 | 9 | 3 | Returning_Visitor | FALSE | FALSE |\n",
       "| ⋮ | ⋮ | ⋮ | ⋮ | ⋮ | ⋮ | ⋮ | ⋮ | ⋮ | ⋮ | ⋮ | ⋮ | ⋮ | ⋮ | ⋮ | ⋮ | ⋮ | ⋮ |\n",
       "| 0 |  0 | 0 | 0 |  6 | 184.25 | 0.08333333 | 0.08666667 | 0 | 0 | Nov | 3 | 2 | 1 | 13 | Returning_Visitor |  TRUE | FALSE |\n",
       "| 4 | 75 | 0 | 0 | 15 | 346.00 | 0.00000000 | 0.02105263 | 0 | 0 | Nov | 2 | 2 | 3 | 11 | Returning_Visitor | FALSE | FALSE |\n",
       "| 0 |  0 | 0 | 0 |  3 |  21.25 | 0.00000000 | 0.06666667 | 0 | 0 | Nov | 3 | 2 | 1 |  2 | New_Visitor       |  TRUE | FALSE |\n",
       "\n"
      ],
      "text/plain": [
       "      Administrative Administrative_Duration Informational\n",
       "1     0              0                       0            \n",
       "2     0              0                       0            \n",
       "3     0              0                       0            \n",
       "⋮     ⋮              ⋮                       ⋮            \n",
       "12328 0               0                      0            \n",
       "12329 4              75                      0            \n",
       "12330 0               0                      0            \n",
       "      Informational_Duration ProductRelated ProductRelated_Duration BounceRates\n",
       "1     0                      1               0                      0.2        \n",
       "2     0                      2              64                      0.0        \n",
       "3     0                      1               0                      0.2        \n",
       "⋮     ⋮                      ⋮              ⋮                       ⋮          \n",
       "12328 0                       6             184.25                  0.08333333 \n",
       "12329 0                      15             346.00                  0.00000000 \n",
       "12330 0                       3              21.25                  0.00000000 \n",
       "      ExitRates  PageValues SpecialDay Month OperatingSystems Browser Region\n",
       "1     0.2        0          0          Feb   1                1       1     \n",
       "2     0.1        0          0          Feb   2                2       1     \n",
       "3     0.2        0          0          Feb   4                1       9     \n",
       "⋮     ⋮          ⋮          ⋮          ⋮     ⋮                ⋮       ⋮     \n",
       "12328 0.08666667 0          0          Nov   3                2       1     \n",
       "12329 0.02105263 0          0          Nov   2                2       3     \n",
       "12330 0.06666667 0          0          Nov   3                2       1     \n",
       "      TrafficType VisitorType       Weekend Revenue\n",
       "1     1           Returning_Visitor FALSE   FALSE  \n",
       "2     2           Returning_Visitor FALSE   FALSE  \n",
       "3     3           Returning_Visitor FALSE   FALSE  \n",
       "⋮     ⋮           ⋮                 ⋮       ⋮      \n",
       "12328 13          Returning_Visitor  TRUE   FALSE  \n",
       "12329 11          Returning_Visitor FALSE   FALSE  \n",
       "12330  2          New_Visitor        TRUE   FALSE  "
      ]
     },
     "metadata": {},
     "output_type": "display_data"
    }
   ],
   "source": [
    "shoppers_data_full <- read_csv(\"https://archive.ics.uci.edu/ml/machine-learning-databases/00468/online_shoppers_intention.csv\")\n",
    "shoppers_data_full"
   ]
  },
  {
   "cell_type": "code",
   "execution_count": 36,
   "metadata": {},
   "outputs": [
    {
     "data": {
      "text/html": [
       "<table>\n",
       "<caption>A tibble: 9248 × 6</caption>\n",
       "<thead>\n",
       "\t<tr><th scope=col>ProductRelated</th><th scope=col>ProductRelated_Duration</th><th scope=col>BounceRates</th><th scope=col>ExitRates</th><th scope=col>PageValues</th><th scope=col>Revenue</th></tr>\n",
       "\t<tr><th scope=col>&lt;dbl&gt;</th><th scope=col>&lt;dbl&gt;</th><th scope=col>&lt;dbl&gt;</th><th scope=col>&lt;dbl&gt;</th><th scope=col>&lt;dbl&gt;</th><th scope=col>&lt;fct&gt;</th></tr>\n",
       "</thead>\n",
       "<tbody>\n",
       "\t<tr><td>1</td><td>0.000000</td><td>0.20</td><td>0.20</td><td>0</td><td>FALSE</td></tr>\n",
       "\t<tr><td>1</td><td>0.000000</td><td>0.20</td><td>0.20</td><td>0</td><td>FALSE</td></tr>\n",
       "\t<tr><td>2</td><td>2.666667</td><td>0.05</td><td>0.14</td><td>0</td><td>FALSE</td></tr>\n",
       "\t<tr><td>⋮</td><td>⋮</td><td>⋮</td><td>⋮</td><td>⋮</td><td>⋮</td></tr>\n",
       "\t<tr><td>5</td><td>465.75</td><td>0.00000000</td><td>0.02133333</td><td>0</td><td>FALSE</td></tr>\n",
       "\t<tr><td>6</td><td>184.25</td><td>0.08333333</td><td>0.08666667</td><td>0</td><td>FALSE</td></tr>\n",
       "\t<tr><td>3</td><td> 21.25</td><td>0.00000000</td><td>0.06666667</td><td>0</td><td>FALSE</td></tr>\n",
       "</tbody>\n",
       "</table>\n"
      ],
      "text/latex": [
       "A tibble: 9248 × 6\n",
       "\\begin{tabular}{llllll}\n",
       " ProductRelated & ProductRelated\\_Duration & BounceRates & ExitRates & PageValues & Revenue\\\\\n",
       " <dbl> & <dbl> & <dbl> & <dbl> & <dbl> & <fct>\\\\\n",
       "\\hline\n",
       "\t 1 & 0.000000 & 0.20 & 0.20 & 0 & FALSE\\\\\n",
       "\t 1 & 0.000000 & 0.20 & 0.20 & 0 & FALSE\\\\\n",
       "\t 2 & 2.666667 & 0.05 & 0.14 & 0 & FALSE\\\\\n",
       "\t ⋮ & ⋮ & ⋮ & ⋮ & ⋮ & ⋮\\\\\n",
       "\t 5 & 465.75 & 0.00000000 & 0.02133333 & 0 & FALSE\\\\\n",
       "\t 6 & 184.25 & 0.08333333 & 0.08666667 & 0 & FALSE\\\\\n",
       "\t 3 &  21.25 & 0.00000000 & 0.06666667 & 0 & FALSE\\\\\n",
       "\\end{tabular}\n"
      ],
      "text/markdown": [
       "\n",
       "A tibble: 9248 × 6\n",
       "\n",
       "| ProductRelated &lt;dbl&gt; | ProductRelated_Duration &lt;dbl&gt; | BounceRates &lt;dbl&gt; | ExitRates &lt;dbl&gt; | PageValues &lt;dbl&gt; | Revenue &lt;fct&gt; |\n",
       "|---|---|---|---|---|---|\n",
       "| 1 | 0.000000 | 0.20 | 0.20 | 0 | FALSE |\n",
       "| 1 | 0.000000 | 0.20 | 0.20 | 0 | FALSE |\n",
       "| 2 | 2.666667 | 0.05 | 0.14 | 0 | FALSE |\n",
       "| ⋮ | ⋮ | ⋮ | ⋮ | ⋮ | ⋮ |\n",
       "| 5 | 465.75 | 0.00000000 | 0.02133333 | 0 | FALSE |\n",
       "| 6 | 184.25 | 0.08333333 | 0.08666667 | 0 | FALSE |\n",
       "| 3 |  21.25 | 0.00000000 | 0.06666667 | 0 | FALSE |\n",
       "\n"
      ],
      "text/plain": [
       "     ProductRelated ProductRelated_Duration BounceRates ExitRates  PageValues\n",
       "1    1              0.000000                0.20        0.20       0         \n",
       "2    1              0.000000                0.20        0.20       0         \n",
       "3    2              2.666667                0.05        0.14       0         \n",
       "⋮    ⋮              ⋮                       ⋮           ⋮          ⋮         \n",
       "9246 5              465.75                  0.00000000  0.02133333 0         \n",
       "9247 6              184.25                  0.08333333  0.08666667 0         \n",
       "9248 3               21.25                  0.00000000  0.06666667 0         \n",
       "     Revenue\n",
       "1    FALSE  \n",
       "2    FALSE  \n",
       "3    FALSE  \n",
       "⋮    ⋮      \n",
       "9246 FALSE  \n",
       "9247 FALSE  \n",
       "9248 FALSE  "
      ]
     },
     "metadata": {},
     "output_type": "display_data"
    }
   ],
   "source": [
    "shoppers_data <- shoppers_data_full %>% \n",
    "    select(ProductRelated,ProductRelated_Duration,BounceRates,ExitRates,PageValues,Revenue) %>% \n",
    "    mutate(Revenue = as_factor(Revenue))\n",
    "shoppers_split <- initial_split(data = shoppers_data, prop = 0.75, strata = Revenue)\n",
    "shoppers_training <- training(shoppers_split) \n",
    "shoppers_testing <- testing(shoppers_split)\n",
    "shoppers_training"
   ]
  },
  {
   "cell_type": "code",
   "execution_count": 40,
   "metadata": {},
   "outputs": [],
   "source": [
    "shoppers_recipe <- recipe(Revenue ~ ., data = shoppers_training) %>% \n",
    "    step_scale(all_predictors()) %>% \n",
    "    step_center(all_predictors())"
   ]
  },
  {
   "cell_type": "code",
   "execution_count": 41,
   "metadata": {},
   "outputs": [],
   "source": [
    "knn_spec <- nearest_neighbor(weight_func = \"rectangular\", neighbors = tune()) %>% \n",
    "    set_engine(\"kknn\") %>% \n",
    "    set_mode(\"classification\")\n",
    "\n",
    "shoppers_vfold <- vfold_cv(shoppers_training, v = 5, strata = Revenue)\n",
    "\n"
   ]
  },
  {
   "cell_type": "code",
   "execution_count": null,
   "metadata": {},
   "outputs": [],
   "source": [
    "shoppers_workflow <- workflow() %>% \n",
    "    add_recipe(shoppers_recipe) %>% \n",
    "    add_model(knn_spec) %>% \n",
    "    tune_grid(resamples = shoppers_vfold, grid = 25) %>% \n",
    "    collect_metrics()\n",
    "shoppers_workflow"
   ]
  },
  {
   "cell_type": "code",
   "execution_count": null,
   "metadata": {},
   "outputs": [],
   "source": [
    "shoppers_accuracy <- shoppers_workflow %>% \n",
    "    filter(.metric == \"accuracy\")\n",
    "shoppers_k <- shoppers_accuracy %>% \n",
    "    ggplot(aes(x = neighbors, y = mean)) +\n",
    "    geom_line()+\n",
    "    geom_point()\n",
    "shoppers_k"
   ]
  },
  {
   "cell_type": "code",
   "execution_count": null,
   "metadata": {},
   "outputs": [],
   "source": []
  }
 ],
 "metadata": {
  "kernelspec": {
   "display_name": "R",
   "language": "R",
   "name": "ir"
  },
  "language_info": {
   "codemirror_mode": "r",
   "file_extension": ".r",
   "mimetype": "text/x-r-source",
   "name": "R",
   "pygments_lexer": "r",
   "version": "4.0.0"
  }
 },
 "nbformat": 4,
 "nbformat_minor": 4
}
