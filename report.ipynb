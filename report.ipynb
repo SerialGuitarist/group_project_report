{
 "cells": [
  {
   "cell_type": "code",
   "execution_count": 2,
   "metadata": {},
   "outputs": [
    {
     "name": "stderr",
     "output_type": "stream",
     "text": [
      "── \u001b[1mAttaching packages\u001b[22m ─────────────────────────────────────── tidyverse 1.3.0 ──\n",
      "\n",
      "\u001b[32m✔\u001b[39m \u001b[34mggplot2\u001b[39m 3.3.2     \u001b[32m✔\u001b[39m \u001b[34mpurrr  \u001b[39m 0.3.4\n",
      "\u001b[32m✔\u001b[39m \u001b[34mtibble \u001b[39m 3.0.3     \u001b[32m✔\u001b[39m \u001b[34mdplyr  \u001b[39m 1.0.2\n",
      "\u001b[32m✔\u001b[39m \u001b[34mtidyr  \u001b[39m 1.1.2     \u001b[32m✔\u001b[39m \u001b[34mstringr\u001b[39m 1.4.0\n",
      "\u001b[32m✔\u001b[39m \u001b[34mreadr  \u001b[39m 1.3.1     \u001b[32m✔\u001b[39m \u001b[34mforcats\u001b[39m 0.5.0\n",
      "\n",
      "Warning message:\n",
      "“package ‘ggplot2’ was built under R version 4.0.1”\n",
      "Warning message:\n",
      "“package ‘tibble’ was built under R version 4.0.2”\n",
      "Warning message:\n",
      "“package ‘tidyr’ was built under R version 4.0.2”\n",
      "Warning message:\n",
      "“package ‘dplyr’ was built under R version 4.0.2”\n",
      "── \u001b[1mConflicts\u001b[22m ────────────────────────────────────────── tidyverse_conflicts() ──\n",
      "\u001b[31m✖\u001b[39m \u001b[34mdplyr\u001b[39m::\u001b[32mfilter()\u001b[39m masks \u001b[34mstats\u001b[39m::filter()\n",
      "\u001b[31m✖\u001b[39m \u001b[34mdplyr\u001b[39m::\u001b[32mlag()\u001b[39m    masks \u001b[34mstats\u001b[39m::lag()\n",
      "\n",
      "Warning message:\n",
      "“package ‘tidymodels’ was built under R version 4.0.2”\n",
      "── \u001b[1mAttaching packages\u001b[22m ────────────────────────────────────── tidymodels 0.1.1 ──\n",
      "\n",
      "\u001b[32m✔\u001b[39m \u001b[34mbroom    \u001b[39m 0.7.0      \u001b[32m✔\u001b[39m \u001b[34mrecipes  \u001b[39m 0.1.13\n",
      "\u001b[32m✔\u001b[39m \u001b[34mdials    \u001b[39m 0.0.9      \u001b[32m✔\u001b[39m \u001b[34mrsample  \u001b[39m 0.0.7 \n",
      "\u001b[32m✔\u001b[39m \u001b[34minfer    \u001b[39m 0.5.4      \u001b[32m✔\u001b[39m \u001b[34mtune     \u001b[39m 0.1.1 \n",
      "\u001b[32m✔\u001b[39m \u001b[34mmodeldata\u001b[39m 0.0.2      \u001b[32m✔\u001b[39m \u001b[34mworkflows\u001b[39m 0.2.0 \n",
      "\u001b[32m✔\u001b[39m \u001b[34mparsnip  \u001b[39m 0.1.3      \u001b[32m✔\u001b[39m \u001b[34myardstick\u001b[39m 0.0.7 \n",
      "\n",
      "Warning message:\n",
      "“package ‘broom’ was built under R version 4.0.2”\n",
      "Warning message:\n",
      "“package ‘dials’ was built under R version 4.0.2”\n",
      "Warning message:\n",
      "“package ‘infer’ was built under R version 4.0.3”\n",
      "Warning message:\n",
      "“package ‘modeldata’ was built under R version 4.0.1”\n",
      "Warning message:\n",
      "“package ‘parsnip’ was built under R version 4.0.2”\n",
      "Warning message:\n",
      "“package ‘recipes’ was built under R version 4.0.1”\n",
      "Warning message:\n",
      "“package ‘tune’ was built under R version 4.0.2”\n",
      "Warning message:\n",
      "“package ‘workflows’ was built under R version 4.0.2”\n",
      "Warning message:\n",
      "“package ‘yardstick’ was built under R version 4.0.2”\n",
      "── \u001b[1mConflicts\u001b[22m ───────────────────────────────────────── tidymodels_conflicts() ──\n",
      "\u001b[31m✖\u001b[39m \u001b[34mscales\u001b[39m::\u001b[32mdiscard()\u001b[39m masks \u001b[34mpurrr\u001b[39m::discard()\n",
      "\u001b[31m✖\u001b[39m \u001b[34mdplyr\u001b[39m::\u001b[32mfilter()\u001b[39m   masks \u001b[34mstats\u001b[39m::filter()\n",
      "\u001b[31m✖\u001b[39m \u001b[34mrecipes\u001b[39m::\u001b[32mfixed()\u001b[39m  masks \u001b[34mstringr\u001b[39m::fixed()\n",
      "\u001b[31m✖\u001b[39m \u001b[34mdplyr\u001b[39m::\u001b[32mlag()\u001b[39m      masks \u001b[34mstats\u001b[39m::lag()\n",
      "\u001b[31m✖\u001b[39m \u001b[34myardstick\u001b[39m::\u001b[32mspec()\u001b[39m masks \u001b[34mreadr\u001b[39m::spec()\n",
      "\u001b[31m✖\u001b[39m \u001b[34mrecipes\u001b[39m::\u001b[32mstep()\u001b[39m   masks \u001b[34mstats\u001b[39m::step()\n",
      "\n",
      "Warning message:\n",
      "“package ‘rvest’ was built under R version 4.0.2”\n",
      "Loading required package: xml2\n",
      "\n",
      "\n",
      "Attaching package: ‘rvest’\n",
      "\n",
      "\n",
      "The following object is masked from ‘package:purrr’:\n",
      "\n",
      "    pluck\n",
      "\n",
      "\n",
      "The following object is masked from ‘package:readr’:\n",
      "\n",
      "    guess_encoding\n",
      "\n",
      "\n",
      "Warning message in install.packages(\"GGally\"):\n",
      "“installation of package ‘GGally’ had non-zero exit status”\n",
      "Updating HTML index of packages in '.Library'\n",
      "\n",
      "Making 'packages.html' ...\n",
      " done\n",
      "\n",
      "Registered S3 method overwritten by 'GGally':\n",
      "  method from   \n",
      "  +.gg   ggplot2\n",
      "\n"
     ]
    }
   ],
   "source": [
    "library(tidyverse)\n",
    "library(repr)\n",
    "library(tidymodels)\n",
    "library(rvest)\n",
    "install.packages(\"GGally\")\n",
    "library(\"GGally\")\n",
    "options(repr.matrix.max.rows = 6)"
   ]
  },
  {
   "cell_type": "code",
   "execution_count": 3,
   "metadata": {},
   "outputs": [
    {
     "name": "stderr",
     "output_type": "stream",
     "text": [
      "Parsed with column specification:\n",
      "cols(\n",
      "  Administrative = \u001b[32mcol_double()\u001b[39m,\n",
      "  Administrative_Duration = \u001b[32mcol_double()\u001b[39m,\n",
      "  Informational = \u001b[32mcol_double()\u001b[39m,\n",
      "  Informational_Duration = \u001b[32mcol_double()\u001b[39m,\n",
      "  ProductRelated = \u001b[32mcol_double()\u001b[39m,\n",
      "  ProductRelated_Duration = \u001b[32mcol_double()\u001b[39m,\n",
      "  BounceRates = \u001b[32mcol_double()\u001b[39m,\n",
      "  ExitRates = \u001b[32mcol_double()\u001b[39m,\n",
      "  PageValues = \u001b[32mcol_double()\u001b[39m,\n",
      "  SpecialDay = \u001b[32mcol_double()\u001b[39m,\n",
      "  Month = \u001b[31mcol_character()\u001b[39m,\n",
      "  OperatingSystems = \u001b[32mcol_double()\u001b[39m,\n",
      "  Browser = \u001b[32mcol_double()\u001b[39m,\n",
      "  Region = \u001b[32mcol_double()\u001b[39m,\n",
      "  TrafficType = \u001b[32mcol_double()\u001b[39m,\n",
      "  VisitorType = \u001b[31mcol_character()\u001b[39m,\n",
      "  Weekend = \u001b[33mcol_logical()\u001b[39m,\n",
      "  Revenue = \u001b[33mcol_logical()\u001b[39m\n",
      ")\n",
      "\n"
     ]
    },
    {
     "data": {
      "text/html": [
       "<table>\n",
       "<caption>A spec_tbl_df: 12330 × 18</caption>\n",
       "<thead>\n",
       "\t<tr><th scope=col>Administrative</th><th scope=col>Administrative_Duration</th><th scope=col>Informational</th><th scope=col>Informational_Duration</th><th scope=col>ProductRelated</th><th scope=col>ProductRelated_Duration</th><th scope=col>BounceRates</th><th scope=col>ExitRates</th><th scope=col>PageValues</th><th scope=col>SpecialDay</th><th scope=col>Month</th><th scope=col>OperatingSystems</th><th scope=col>Browser</th><th scope=col>Region</th><th scope=col>TrafficType</th><th scope=col>VisitorType</th><th scope=col>Weekend</th><th scope=col>Revenue</th></tr>\n",
       "\t<tr><th scope=col>&lt;dbl&gt;</th><th scope=col>&lt;dbl&gt;</th><th scope=col>&lt;dbl&gt;</th><th scope=col>&lt;dbl&gt;</th><th scope=col>&lt;dbl&gt;</th><th scope=col>&lt;dbl&gt;</th><th scope=col>&lt;dbl&gt;</th><th scope=col>&lt;dbl&gt;</th><th scope=col>&lt;dbl&gt;</th><th scope=col>&lt;dbl&gt;</th><th scope=col>&lt;chr&gt;</th><th scope=col>&lt;dbl&gt;</th><th scope=col>&lt;dbl&gt;</th><th scope=col>&lt;dbl&gt;</th><th scope=col>&lt;dbl&gt;</th><th scope=col>&lt;chr&gt;</th><th scope=col>&lt;lgl&gt;</th><th scope=col>&lt;lgl&gt;</th></tr>\n",
       "</thead>\n",
       "<tbody>\n",
       "\t<tr><td>0</td><td>0</td><td>0</td><td>0</td><td>1</td><td> 0</td><td>0.2</td><td>0.2</td><td>0</td><td>0</td><td>Feb</td><td>1</td><td>1</td><td>1</td><td>1</td><td>Returning_Visitor</td><td>FALSE</td><td>FALSE</td></tr>\n",
       "\t<tr><td>0</td><td>0</td><td>0</td><td>0</td><td>2</td><td>64</td><td>0.0</td><td>0.1</td><td>0</td><td>0</td><td>Feb</td><td>2</td><td>2</td><td>1</td><td>2</td><td>Returning_Visitor</td><td>FALSE</td><td>FALSE</td></tr>\n",
       "\t<tr><td>0</td><td>0</td><td>0</td><td>0</td><td>1</td><td> 0</td><td>0.2</td><td>0.2</td><td>0</td><td>0</td><td>Feb</td><td>4</td><td>1</td><td>9</td><td>3</td><td>Returning_Visitor</td><td>FALSE</td><td>FALSE</td></tr>\n",
       "\t<tr><td>⋮</td><td>⋮</td><td>⋮</td><td>⋮</td><td>⋮</td><td>⋮</td><td>⋮</td><td>⋮</td><td>⋮</td><td>⋮</td><td>⋮</td><td>⋮</td><td>⋮</td><td>⋮</td><td>⋮</td><td>⋮</td><td>⋮</td><td>⋮</td></tr>\n",
       "\t<tr><td>0</td><td> 0</td><td>0</td><td>0</td><td> 6</td><td>184.25</td><td>0.08333333</td><td>0.08666667</td><td>0</td><td>0</td><td>Nov</td><td>3</td><td>2</td><td>1</td><td>13</td><td>Returning_Visitor</td><td> TRUE</td><td>FALSE</td></tr>\n",
       "\t<tr><td>4</td><td>75</td><td>0</td><td>0</td><td>15</td><td>346.00</td><td>0.00000000</td><td>0.02105263</td><td>0</td><td>0</td><td>Nov</td><td>2</td><td>2</td><td>3</td><td>11</td><td>Returning_Visitor</td><td>FALSE</td><td>FALSE</td></tr>\n",
       "\t<tr><td>0</td><td> 0</td><td>0</td><td>0</td><td> 3</td><td> 21.25</td><td>0.00000000</td><td>0.06666667</td><td>0</td><td>0</td><td>Nov</td><td>3</td><td>2</td><td>1</td><td> 2</td><td>New_Visitor      </td><td> TRUE</td><td>FALSE</td></tr>\n",
       "</tbody>\n",
       "</table>\n"
      ],
      "text/latex": [
       "A spec\\_tbl\\_df: 12330 × 18\n",
       "\\begin{tabular}{llllllllllllllllll}\n",
       " Administrative & Administrative\\_Duration & Informational & Informational\\_Duration & ProductRelated & ProductRelated\\_Duration & BounceRates & ExitRates & PageValues & SpecialDay & Month & OperatingSystems & Browser & Region & TrafficType & VisitorType & Weekend & Revenue\\\\\n",
       " <dbl> & <dbl> & <dbl> & <dbl> & <dbl> & <dbl> & <dbl> & <dbl> & <dbl> & <dbl> & <chr> & <dbl> & <dbl> & <dbl> & <dbl> & <chr> & <lgl> & <lgl>\\\\\n",
       "\\hline\n",
       "\t 0 & 0 & 0 & 0 & 1 &  0 & 0.2 & 0.2 & 0 & 0 & Feb & 1 & 1 & 1 & 1 & Returning\\_Visitor & FALSE & FALSE\\\\\n",
       "\t 0 & 0 & 0 & 0 & 2 & 64 & 0.0 & 0.1 & 0 & 0 & Feb & 2 & 2 & 1 & 2 & Returning\\_Visitor & FALSE & FALSE\\\\\n",
       "\t 0 & 0 & 0 & 0 & 1 &  0 & 0.2 & 0.2 & 0 & 0 & Feb & 4 & 1 & 9 & 3 & Returning\\_Visitor & FALSE & FALSE\\\\\n",
       "\t ⋮ & ⋮ & ⋮ & ⋮ & ⋮ & ⋮ & ⋮ & ⋮ & ⋮ & ⋮ & ⋮ & ⋮ & ⋮ & ⋮ & ⋮ & ⋮ & ⋮ & ⋮\\\\\n",
       "\t 0 &  0 & 0 & 0 &  6 & 184.25 & 0.08333333 & 0.08666667 & 0 & 0 & Nov & 3 & 2 & 1 & 13 & Returning\\_Visitor &  TRUE & FALSE\\\\\n",
       "\t 4 & 75 & 0 & 0 & 15 & 346.00 & 0.00000000 & 0.02105263 & 0 & 0 & Nov & 2 & 2 & 3 & 11 & Returning\\_Visitor & FALSE & FALSE\\\\\n",
       "\t 0 &  0 & 0 & 0 &  3 &  21.25 & 0.00000000 & 0.06666667 & 0 & 0 & Nov & 3 & 2 & 1 &  2 & New\\_Visitor       &  TRUE & FALSE\\\\\n",
       "\\end{tabular}\n"
      ],
      "text/markdown": [
       "\n",
       "A spec_tbl_df: 12330 × 18\n",
       "\n",
       "| Administrative &lt;dbl&gt; | Administrative_Duration &lt;dbl&gt; | Informational &lt;dbl&gt; | Informational_Duration &lt;dbl&gt; | ProductRelated &lt;dbl&gt; | ProductRelated_Duration &lt;dbl&gt; | BounceRates &lt;dbl&gt; | ExitRates &lt;dbl&gt; | PageValues &lt;dbl&gt; | SpecialDay &lt;dbl&gt; | Month &lt;chr&gt; | OperatingSystems &lt;dbl&gt; | Browser &lt;dbl&gt; | Region &lt;dbl&gt; | TrafficType &lt;dbl&gt; | VisitorType &lt;chr&gt; | Weekend &lt;lgl&gt; | Revenue &lt;lgl&gt; |\n",
       "|---|---|---|---|---|---|---|---|---|---|---|---|---|---|---|---|---|---|\n",
       "| 0 | 0 | 0 | 0 | 1 |  0 | 0.2 | 0.2 | 0 | 0 | Feb | 1 | 1 | 1 | 1 | Returning_Visitor | FALSE | FALSE |\n",
       "| 0 | 0 | 0 | 0 | 2 | 64 | 0.0 | 0.1 | 0 | 0 | Feb | 2 | 2 | 1 | 2 | Returning_Visitor | FALSE | FALSE |\n",
       "| 0 | 0 | 0 | 0 | 1 |  0 | 0.2 | 0.2 | 0 | 0 | Feb | 4 | 1 | 9 | 3 | Returning_Visitor | FALSE | FALSE |\n",
       "| ⋮ | ⋮ | ⋮ | ⋮ | ⋮ | ⋮ | ⋮ | ⋮ | ⋮ | ⋮ | ⋮ | ⋮ | ⋮ | ⋮ | ⋮ | ⋮ | ⋮ | ⋮ |\n",
       "| 0 |  0 | 0 | 0 |  6 | 184.25 | 0.08333333 | 0.08666667 | 0 | 0 | Nov | 3 | 2 | 1 | 13 | Returning_Visitor |  TRUE | FALSE |\n",
       "| 4 | 75 | 0 | 0 | 15 | 346.00 | 0.00000000 | 0.02105263 | 0 | 0 | Nov | 2 | 2 | 3 | 11 | Returning_Visitor | FALSE | FALSE |\n",
       "| 0 |  0 | 0 | 0 |  3 |  21.25 | 0.00000000 | 0.06666667 | 0 | 0 | Nov | 3 | 2 | 1 |  2 | New_Visitor       |  TRUE | FALSE |\n",
       "\n"
      ],
      "text/plain": [
       "      Administrative Administrative_Duration Informational\n",
       "1     0              0                       0            \n",
       "2     0              0                       0            \n",
       "3     0              0                       0            \n",
       "⋮     ⋮              ⋮                       ⋮            \n",
       "12328 0               0                      0            \n",
       "12329 4              75                      0            \n",
       "12330 0               0                      0            \n",
       "      Informational_Duration ProductRelated ProductRelated_Duration BounceRates\n",
       "1     0                      1               0                      0.2        \n",
       "2     0                      2              64                      0.0        \n",
       "3     0                      1               0                      0.2        \n",
       "⋮     ⋮                      ⋮              ⋮                       ⋮          \n",
       "12328 0                       6             184.25                  0.08333333 \n",
       "12329 0                      15             346.00                  0.00000000 \n",
       "12330 0                       3              21.25                  0.00000000 \n",
       "      ExitRates  PageValues SpecialDay Month OperatingSystems Browser Region\n",
       "1     0.2        0          0          Feb   1                1       1     \n",
       "2     0.1        0          0          Feb   2                2       1     \n",
       "3     0.2        0          0          Feb   4                1       9     \n",
       "⋮     ⋮          ⋮          ⋮          ⋮     ⋮                ⋮       ⋮     \n",
       "12328 0.08666667 0          0          Nov   3                2       1     \n",
       "12329 0.02105263 0          0          Nov   2                2       3     \n",
       "12330 0.06666667 0          0          Nov   3                2       1     \n",
       "      TrafficType VisitorType       Weekend Revenue\n",
       "1     1           Returning_Visitor FALSE   FALSE  \n",
       "2     2           Returning_Visitor FALSE   FALSE  \n",
       "3     3           Returning_Visitor FALSE   FALSE  \n",
       "⋮     ⋮           ⋮                 ⋮       ⋮      \n",
       "12328 13          Returning_Visitor  TRUE   FALSE  \n",
       "12329 11          Returning_Visitor FALSE   FALSE  \n",
       "12330  2          New_Visitor        TRUE   FALSE  "
      ]
     },
     "metadata": {},
     "output_type": "display_data"
    }
   ],
   "source": [
    "shoppers_data_full <- read_csv(\"https://archive.ics.uci.edu/ml/machine-learning-databases/00468/online_shoppers_intention.csv\")\n",
    "shoppers_data_full"
   ]
  },
  {
   "cell_type": "code",
   "execution_count": 22,
   "metadata": {},
   "outputs": [
    {
     "data": {
      "text/html": [
       "<table>\n",
       "<caption>A tibble: 9248 × 6</caption>\n",
       "<thead>\n",
       "\t<tr><th scope=col>ProductRelated</th><th scope=col>ProductRelated_Duration</th><th scope=col>BounceRates</th><th scope=col>ExitRates</th><th scope=col>PageValues</th><th scope=col>Revenue</th></tr>\n",
       "\t<tr><th scope=col>&lt;dbl&gt;</th><th scope=col>&lt;dbl&gt;</th><th scope=col>&lt;dbl&gt;</th><th scope=col>&lt;dbl&gt;</th><th scope=col>&lt;dbl&gt;</th><th scope=col>&lt;fct&gt;</th></tr>\n",
       "</thead>\n",
       "<tbody>\n",
       "\t<tr><td>1</td><td> 0</td><td>0.2</td><td>0.2</td><td>0</td><td>FALSE</td></tr>\n",
       "\t<tr><td>2</td><td>64</td><td>0.0</td><td>0.1</td><td>0</td><td>FALSE</td></tr>\n",
       "\t<tr><td>1</td><td> 0</td><td>0.2</td><td>0.2</td><td>0</td><td>FALSE</td></tr>\n",
       "\t<tr><td>⋮</td><td>⋮</td><td>⋮</td><td>⋮</td><td>⋮</td><td>⋮</td></tr>\n",
       "\t<tr><td> 5</td><td>465.75</td><td>0</td><td>0.02133333</td><td>0</td><td>FALSE</td></tr>\n",
       "\t<tr><td>15</td><td>346.00</td><td>0</td><td>0.02105263</td><td>0</td><td>FALSE</td></tr>\n",
       "\t<tr><td> 3</td><td> 21.25</td><td>0</td><td>0.06666667</td><td>0</td><td>FALSE</td></tr>\n",
       "</tbody>\n",
       "</table>\n"
      ],
      "text/latex": [
       "A tibble: 9248 × 6\n",
       "\\begin{tabular}{llllll}\n",
       " ProductRelated & ProductRelated\\_Duration & BounceRates & ExitRates & PageValues & Revenue\\\\\n",
       " <dbl> & <dbl> & <dbl> & <dbl> & <dbl> & <fct>\\\\\n",
       "\\hline\n",
       "\t 1 &  0 & 0.2 & 0.2 & 0 & FALSE\\\\\n",
       "\t 2 & 64 & 0.0 & 0.1 & 0 & FALSE\\\\\n",
       "\t 1 &  0 & 0.2 & 0.2 & 0 & FALSE\\\\\n",
       "\t ⋮ & ⋮ & ⋮ & ⋮ & ⋮ & ⋮\\\\\n",
       "\t  5 & 465.75 & 0 & 0.02133333 & 0 & FALSE\\\\\n",
       "\t 15 & 346.00 & 0 & 0.02105263 & 0 & FALSE\\\\\n",
       "\t  3 &  21.25 & 0 & 0.06666667 & 0 & FALSE\\\\\n",
       "\\end{tabular}\n"
      ],
      "text/markdown": [
       "\n",
       "A tibble: 9248 × 6\n",
       "\n",
       "| ProductRelated &lt;dbl&gt; | ProductRelated_Duration &lt;dbl&gt; | BounceRates &lt;dbl&gt; | ExitRates &lt;dbl&gt; | PageValues &lt;dbl&gt; | Revenue &lt;fct&gt; |\n",
       "|---|---|---|---|---|---|\n",
       "| 1 |  0 | 0.2 | 0.2 | 0 | FALSE |\n",
       "| 2 | 64 | 0.0 | 0.1 | 0 | FALSE |\n",
       "| 1 |  0 | 0.2 | 0.2 | 0 | FALSE |\n",
       "| ⋮ | ⋮ | ⋮ | ⋮ | ⋮ | ⋮ |\n",
       "|  5 | 465.75 | 0 | 0.02133333 | 0 | FALSE |\n",
       "| 15 | 346.00 | 0 | 0.02105263 | 0 | FALSE |\n",
       "|  3 |  21.25 | 0 | 0.06666667 | 0 | FALSE |\n",
       "\n"
      ],
      "text/plain": [
       "     ProductRelated ProductRelated_Duration BounceRates ExitRates  PageValues\n",
       "1    1               0                      0.2         0.2        0         \n",
       "2    2              64                      0.0         0.1        0         \n",
       "3    1               0                      0.2         0.2        0         \n",
       "⋮    ⋮              ⋮                       ⋮           ⋮          ⋮         \n",
       "9246  5             465.75                  0           0.02133333 0         \n",
       "9247 15             346.00                  0           0.02105263 0         \n",
       "9248  3              21.25                  0           0.06666667 0         \n",
       "     Revenue\n",
       "1    FALSE  \n",
       "2    FALSE  \n",
       "3    FALSE  \n",
       "⋮    ⋮      \n",
       "9246 FALSE  \n",
       "9247 FALSE  \n",
       "9248 FALSE  "
      ]
     },
     "metadata": {},
     "output_type": "display_data"
    }
   ],
   "source": [
    "set.seed(10)\n",
    "shoppers_data <- shoppers_data_full %>% \n",
    "    select(ProductRelated,ProductRelated_Duration,BounceRates,ExitRates,PageValues,Revenue) %>% \n",
    "    mutate(Revenue = as_factor(Revenue))\n",
    "shoppers_split <- initial_split(data = shoppers_data, prop = 0.75, strata = Revenue)\n",
    "shoppers_training <- training(shoppers_split) \n",
    "shoppers_testing <- testing(shoppers_split)\n",
    "shoppers_training"
   ]
  },
  {
   "cell_type": "code",
   "execution_count": null,
   "metadata": {},
   "outputs": [],
   "source": []
  },
  {
   "cell_type": "code",
   "execution_count": null,
   "metadata": {},
   "outputs": [],
   "source": []
  },
  {
   "cell_type": "code",
   "execution_count": 23,
   "metadata": {},
   "outputs": [
    {
     "data": {
      "text/plain": [
       "Data Recipe\n",
       "\n",
       "Inputs:\n",
       "\n",
       "      role #variables\n",
       "   outcome          1\n",
       " predictor          5\n",
       "\n",
       "Operations:\n",
       "\n",
       "Up-sampling based on Revenue\n",
       "Scaling for all_predictors()\n",
       "Centering for all_predictors()"
      ]
     },
     "metadata": {},
     "output_type": "display_data"
    }
   ],
   "source": [
    "\n",
    "shoppers_recipe <- recipe(Revenue ~ ., data = shoppers_training) %>% \n",
    "     step_upsample(Revenue, over_ratio = 1, skip = TRUE) %>% \n",
    "     step_scale(all_predictors()) %>% \n",
    "     step_center(all_predictors()) \n",
    "#      prep() %>%\n",
    "#      bake(shoppers_training)\n",
    "# shoppers_recipe <- shoppers_recipe %>% \n",
    "#     step_scale(all_predictors()) %>% \n",
    "#      step_center(all_predictors())\n",
    "\n",
    "# summary(shoppers_recipe$Revenue)\n",
    "shoppers_recipe \n"
   ]
  },
  {
   "cell_type": "code",
   "execution_count": 24,
   "metadata": {},
   "outputs": [],
   "source": [
    "knn_spec <- nearest_neighbor(weight_func = \"rectangular\", neighbors = tune()) %>% \n",
    "    set_engine(\"kknn\") %>% \n",
    "    set_mode(\"classification\")\n",
    "\n",
    "shoppers_vfold <- vfold_cv(shoppers_training, v = 5, strata = Revenue)\n",
    "\n"
   ]
  },
  {
   "cell_type": "code",
   "execution_count": 25,
   "metadata": {},
   "outputs": [
    {
     "data": {
      "text/html": [
       "<table>\n",
       "<caption>A tibble: 20 × 7</caption>\n",
       "<thead>\n",
       "\t<tr><th scope=col>neighbors</th><th scope=col>.metric</th><th scope=col>.estimator</th><th scope=col>mean</th><th scope=col>n</th><th scope=col>std_err</th><th scope=col>.config</th></tr>\n",
       "\t<tr><th scope=col>&lt;dbl&gt;</th><th scope=col>&lt;chr&gt;</th><th scope=col>&lt;chr&gt;</th><th scope=col>&lt;dbl&gt;</th><th scope=col>&lt;int&gt;</th><th scope=col>&lt;dbl&gt;</th><th scope=col>&lt;chr&gt;</th></tr>\n",
       "</thead>\n",
       "<tbody>\n",
       "\t<tr><td>1</td><td>accuracy</td><td>binary</td><td>0.8581326</td><td>5</td><td>0.003845619</td><td>Model01</td></tr>\n",
       "\t<tr><td>1</td><td>roc_auc </td><td>binary</td><td>0.7313980</td><td>5</td><td>0.006885051</td><td>Model01</td></tr>\n",
       "\t<tr><td>6</td><td>accuracy</td><td>binary</td><td>0.8115279</td><td>5</td><td>0.004167067</td><td>Model02</td></tr>\n",
       "\t<tr><td>⋮</td><td>⋮</td><td>⋮</td><td>⋮</td><td>⋮</td><td>⋮</td><td>⋮</td></tr>\n",
       "\t<tr><td>41</td><td>roc_auc </td><td>binary</td><td>0.8812782</td><td>5</td><td>0.002888103</td><td>Model09</td></tr>\n",
       "\t<tr><td>46</td><td>accuracy</td><td>binary</td><td>0.8423443</td><td>5</td><td>0.002527607</td><td>Model10</td></tr>\n",
       "\t<tr><td>46</td><td>roc_auc </td><td>binary</td><td>0.8828790</td><td>5</td><td>0.002351624</td><td>Model10</td></tr>\n",
       "</tbody>\n",
       "</table>\n"
      ],
      "text/latex": [
       "A tibble: 20 × 7\n",
       "\\begin{tabular}{lllllll}\n",
       " neighbors & .metric & .estimator & mean & n & std\\_err & .config\\\\\n",
       " <dbl> & <chr> & <chr> & <dbl> & <int> & <dbl> & <chr>\\\\\n",
       "\\hline\n",
       "\t 1 & accuracy & binary & 0.8581326 & 5 & 0.003845619 & Model01\\\\\n",
       "\t 1 & roc\\_auc  & binary & 0.7313980 & 5 & 0.006885051 & Model01\\\\\n",
       "\t 6 & accuracy & binary & 0.8115279 & 5 & 0.004167067 & Model02\\\\\n",
       "\t ⋮ & ⋮ & ⋮ & ⋮ & ⋮ & ⋮ & ⋮\\\\\n",
       "\t 41 & roc\\_auc  & binary & 0.8812782 & 5 & 0.002888103 & Model09\\\\\n",
       "\t 46 & accuracy & binary & 0.8423443 & 5 & 0.002527607 & Model10\\\\\n",
       "\t 46 & roc\\_auc  & binary & 0.8828790 & 5 & 0.002351624 & Model10\\\\\n",
       "\\end{tabular}\n"
      ],
      "text/markdown": [
       "\n",
       "A tibble: 20 × 7\n",
       "\n",
       "| neighbors &lt;dbl&gt; | .metric &lt;chr&gt; | .estimator &lt;chr&gt; | mean &lt;dbl&gt; | n &lt;int&gt; | std_err &lt;dbl&gt; | .config &lt;chr&gt; |\n",
       "|---|---|---|---|---|---|---|\n",
       "| 1 | accuracy | binary | 0.8581326 | 5 | 0.003845619 | Model01 |\n",
       "| 1 | roc_auc  | binary | 0.7313980 | 5 | 0.006885051 | Model01 |\n",
       "| 6 | accuracy | binary | 0.8115279 | 5 | 0.004167067 | Model02 |\n",
       "| ⋮ | ⋮ | ⋮ | ⋮ | ⋮ | ⋮ | ⋮ |\n",
       "| 41 | roc_auc  | binary | 0.8812782 | 5 | 0.002888103 | Model09 |\n",
       "| 46 | accuracy | binary | 0.8423443 | 5 | 0.002527607 | Model10 |\n",
       "| 46 | roc_auc  | binary | 0.8828790 | 5 | 0.002351624 | Model10 |\n",
       "\n"
      ],
      "text/plain": [
       "   neighbors .metric  .estimator mean      n std_err     .config\n",
       "1  1         accuracy binary     0.8581326 5 0.003845619 Model01\n",
       "2  1         roc_auc  binary     0.7313980 5 0.006885051 Model01\n",
       "3  6         accuracy binary     0.8115279 5 0.004167067 Model02\n",
       "⋮  ⋮         ⋮        ⋮          ⋮         ⋮ ⋮           ⋮      \n",
       "18 41        roc_auc  binary     0.8812782 5 0.002888103 Model09\n",
       "19 46        accuracy binary     0.8423443 5 0.002527607 Model10\n",
       "20 46        roc_auc  binary     0.8828790 5 0.002351624 Model10"
      ]
     },
     "metadata": {},
     "output_type": "display_data"
    }
   ],
   "source": [
    "shoppers_workflow <- workflow() %>% \n",
    "    add_recipe(shoppers_recipe) %>% \n",
    "    add_model(knn_spec) %>% \n",
    "    tune_grid(resamples = shoppers_vfold, grid = tibble(neighbors = seq(1,50,by = 5))) %>% \n",
    "    collect_metrics()\n",
    "shoppers_workflow"
   ]
  },
  {
   "cell_type": "code",
   "execution_count": 26,
   "metadata": {},
   "outputs": [
    {
     "data": {
      "text/html": [
       "<table>\n",
       "<caption>A tibble: 10 × 7</caption>\n",
       "<thead>\n",
       "\t<tr><th scope=col>neighbors</th><th scope=col>.metric</th><th scope=col>.estimator</th><th scope=col>mean</th><th scope=col>n</th><th scope=col>std_err</th><th scope=col>.config</th></tr>\n",
       "\t<tr><th scope=col>&lt;dbl&gt;</th><th scope=col>&lt;chr&gt;</th><th scope=col>&lt;chr&gt;</th><th scope=col>&lt;dbl&gt;</th><th scope=col>&lt;int&gt;</th><th scope=col>&lt;dbl&gt;</th><th scope=col>&lt;chr&gt;</th></tr>\n",
       "</thead>\n",
       "<tbody>\n",
       "\t<tr><td> 1</td><td>accuracy</td><td>binary</td><td>0.8581326</td><td>5</td><td>0.003845619</td><td>Model01</td></tr>\n",
       "\t<tr><td> 6</td><td>accuracy</td><td>binary</td><td>0.8115279</td><td>5</td><td>0.004167067</td><td>Model02</td></tr>\n",
       "\t<tr><td>11</td><td>accuracy</td><td>binary</td><td>0.7983353</td><td>5</td><td>0.002542368</td><td>Model03</td></tr>\n",
       "\t<tr><td>⋮</td><td>⋮</td><td>⋮</td><td>⋮</td><td>⋮</td><td>⋮</td><td>⋮</td></tr>\n",
       "\t<tr><td>36</td><td>accuracy</td><td>binary</td><td>0.8392087</td><td>5</td><td>0.002306337</td><td>Model08</td></tr>\n",
       "\t<tr><td>41</td><td>accuracy</td><td>binary</td><td>0.8414800</td><td>5</td><td>0.002811737</td><td>Model09</td></tr>\n",
       "\t<tr><td>46</td><td>accuracy</td><td>binary</td><td>0.8423443</td><td>5</td><td>0.002527607</td><td>Model10</td></tr>\n",
       "</tbody>\n",
       "</table>\n"
      ],
      "text/latex": [
       "A tibble: 10 × 7\n",
       "\\begin{tabular}{lllllll}\n",
       " neighbors & .metric & .estimator & mean & n & std\\_err & .config\\\\\n",
       " <dbl> & <chr> & <chr> & <dbl> & <int> & <dbl> & <chr>\\\\\n",
       "\\hline\n",
       "\t  1 & accuracy & binary & 0.8581326 & 5 & 0.003845619 & Model01\\\\\n",
       "\t  6 & accuracy & binary & 0.8115279 & 5 & 0.004167067 & Model02\\\\\n",
       "\t 11 & accuracy & binary & 0.7983353 & 5 & 0.002542368 & Model03\\\\\n",
       "\t ⋮ & ⋮ & ⋮ & ⋮ & ⋮ & ⋮ & ⋮\\\\\n",
       "\t 36 & accuracy & binary & 0.8392087 & 5 & 0.002306337 & Model08\\\\\n",
       "\t 41 & accuracy & binary & 0.8414800 & 5 & 0.002811737 & Model09\\\\\n",
       "\t 46 & accuracy & binary & 0.8423443 & 5 & 0.002527607 & Model10\\\\\n",
       "\\end{tabular}\n"
      ],
      "text/markdown": [
       "\n",
       "A tibble: 10 × 7\n",
       "\n",
       "| neighbors &lt;dbl&gt; | .metric &lt;chr&gt; | .estimator &lt;chr&gt; | mean &lt;dbl&gt; | n &lt;int&gt; | std_err &lt;dbl&gt; | .config &lt;chr&gt; |\n",
       "|---|---|---|---|---|---|---|\n",
       "|  1 | accuracy | binary | 0.8581326 | 5 | 0.003845619 | Model01 |\n",
       "|  6 | accuracy | binary | 0.8115279 | 5 | 0.004167067 | Model02 |\n",
       "| 11 | accuracy | binary | 0.7983353 | 5 | 0.002542368 | Model03 |\n",
       "| ⋮ | ⋮ | ⋮ | ⋮ | ⋮ | ⋮ | ⋮ |\n",
       "| 36 | accuracy | binary | 0.8392087 | 5 | 0.002306337 | Model08 |\n",
       "| 41 | accuracy | binary | 0.8414800 | 5 | 0.002811737 | Model09 |\n",
       "| 46 | accuracy | binary | 0.8423443 | 5 | 0.002527607 | Model10 |\n",
       "\n"
      ],
      "text/plain": [
       "   neighbors .metric  .estimator mean      n std_err     .config\n",
       "1   1        accuracy binary     0.8581326 5 0.003845619 Model01\n",
       "2   6        accuracy binary     0.8115279 5 0.004167067 Model02\n",
       "3  11        accuracy binary     0.7983353 5 0.002542368 Model03\n",
       "⋮  ⋮         ⋮        ⋮          ⋮         ⋮ ⋮           ⋮      \n",
       "8  36        accuracy binary     0.8392087 5 0.002306337 Model08\n",
       "9  41        accuracy binary     0.8414800 5 0.002811737 Model09\n",
       "10 46        accuracy binary     0.8423443 5 0.002527607 Model10"
      ]
     },
     "metadata": {},
     "output_type": "display_data"
    },
    {
     "data": {
      "image/png": "[encoded data removed]",
      "text/plain": [
       "plot without title"
      ]
     },
     "metadata": {
      "image/png": {
       "height": 420,
       "width": 420
      }
     },
     "output_type": "display_data"
    }
   ],
   "source": [
    "shoppers_accuracy <- shoppers_workflow %>% \n",
    "    filter(.metric == \"accuracy\")\n",
    "shoppers_accuracy\n",
    "shoppers_k <- shoppers_accuracy %>% \n",
    "    ggplot(aes(x = neighbors, y = mean)) +\n",
    "    geom_line()+\n",
    "    geom_point()\n",
    "shoppers_k"
   ]
  },
  {
   "cell_type": "code",
   "execution_count": null,
   "metadata": {},
   "outputs": [],
   "source": []
  }
 ],
 "metadata": {
  "kernelspec": {
   "display_name": "R",
   "language": "R",
   "name": "ir"
  },
  "language_info": {
   "codemirror_mode": "r",
   "file_extension": ".r",
   "mimetype": "text/x-r-source",
   "name": "R",
   "pygments_lexer": "r",
   "version": "4.0.0"
  }
 },
 "nbformat": 4,
 "nbformat_minor": 4
}
